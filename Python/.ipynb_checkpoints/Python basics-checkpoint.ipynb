{
 "cells": [
  {
   "cell_type": "markdown",
   "id": "579f40f6-46fb-40f2-9874-5f5600770b15",
   "metadata": {},
   "source": [
    "# **Part 1: main**"
   ]
  },
  {
   "cell_type": "markdown",
   "id": "81ac4b2f-e09b-42b8-b270-1909ebeba115",
   "metadata": {},
   "source": [
    "### magic methods"
   ]
  },
  {
   "cell_type": "code",
   "execution_count": 4,
   "id": "23143acd-5262-471c-957b-477a07753941",
   "metadata": {},
   "outputs": [
    {
     "name": "stdout",
     "output_type": "stream",
     "text": [
      "30\n"
     ]
    }
   ],
   "source": [
    "class adt:\n",
    "    def __init__(self,x):\n",
    "        self.x=x\n",
    "    def __add__(self, other):\n",
    "        return self.x+other.x\n",
    "a=adt(10)\n",
    "b=adt(20)\n",
    "result=a+b\n",
    "print(result)"
   ]
  },
  {
   "cell_type": "markdown",
   "id": "7918ba68-267f-4b7f-a2b2-e33c5570d28e",
   "metadata": {},
   "source": [
    "## constructor,destructor"
   ]
  },
  {
   "cell_type": "code",
   "execution_count": 5,
   "id": "08e3ee2a-3f83-49a4-ae4c-5b2bf091feac",
   "metadata": {
    "scrolled": true
   },
   "outputs": [
    {
     "name": "stdout",
     "output_type": "stream",
     "text": [
      "5 alice\n",
      "5 alice\n",
      "5 and alice is deleted\n"
     ]
    }
   ],
   "source": [
    "class construct:\n",
    "    def __init__(self,x,y):\n",
    "        self.x=x\n",
    "        self.y=y\n",
    "    \n",
    "ob=construct(5,\"alice\")\n",
    "print(ob.x,ob.y)\n",
    "    \n",
    "class destruct:\n",
    "    def __init__(self,x,y):\n",
    "        self.x=x\n",
    "        self.y=y\n",
    "    def __del__(self):\n",
    "        print(f\"{self.x} and {self.y} is deleted\")\n",
    "ob=destruct(5,\"alice\")\n",
    "print(ob.x,ob.y)\n",
    "del ob"
   ]
  },
  {
   "cell_type": "markdown",
   "id": "f790c5a9-550d-4f17-be62-42eb32a06aab",
   "metadata": {},
   "source": [
    "## decorator"
   ]
  },
  {
   "cell_type": "code",
   "execution_count": 3,
   "id": "862157a7-e298-44e1-8f88-d72fa58ed856",
   "metadata": {},
   "outputs": [
    {
     "name": "stdout",
     "output_type": "stream",
     "text": [
      "extra sauce\n",
      "chicken burger\n",
      "i hope you love it\n",
      "lets start\n",
      "3\n",
      "its finished\n"
     ]
    }
   ],
   "source": [
    "def super(func):\n",
    "    def extra():\n",
    "        print(\"extra sauce\")\n",
    "        func()\n",
    "        print(\"i hope you love it\")\n",
    "    return extra\n",
    "@super\n",
    "def burger():\n",
    "    print(\"chicken burger\")\n",
    "burger()\n",
    "\n",
    "#another\n",
    "\n",
    "def starter(x):\n",
    "    def wrap(a,b):\n",
    "        print(\"lets start\")\n",
    "        r=x(a,b)\n",
    "        print(r)\n",
    "        print(\"its finished\")\n",
    "    return wrap\n",
    "@starter\n",
    "def summer(a,b):\n",
    "    s=a+b\n",
    "    return s\n",
    "summer(1,2)"
   ]
  },
  {
   "cell_type": "markdown",
   "id": "87d5d0ca-5a18-447e-9e04-93677c189e13",
   "metadata": {},
   "source": [
    "## encapsulation"
   ]
  },
  {
   "cell_type": "code",
   "execution_count": 3,
   "id": "953efbfd-b8d2-4745-be44-165617e1992f",
   "metadata": {},
   "outputs": [
    {
     "name": "stdout",
     "output_type": "stream",
     "text": [
      "python\n",
      "six month\n"
     ]
    }
   ],
   "source": [
    "class course:\n",
    "    def __init__(self):\n",
    "        self.name=\"python\"\n",
    "        self.__duration=\"six month\"\n",
    "ob=course()\n",
    "print(ob.name)\n",
    "print(ob._course__duration)"
   ]
  },
  {
   "cell_type": "markdown",
   "id": "118c55ce-9cdd-4b42-a349-c790c802e7ed",
   "metadata": {},
   "source": [
    "## inheritence"
   ]
  },
  {
   "cell_type": "code",
   "execution_count": 6,
   "id": "36efab91-d333-4650-9e9f-5f2e9346cc15",
   "metadata": {},
   "outputs": [
    {
     "name": "stdout",
     "output_type": "stream",
     "text": [
      "50\n"
     ]
    }
   ],
   "source": [
    "class a:\n",
    "    def func(self, a):\n",
    "        self.a = a\n",
    "    \n",
    "class b(a):\n",
    "    def func2(self, a, b):\n",
    "        self.func(a)  \n",
    "        self.b = b\n",
    "        return self.b + self.a\n",
    "    \n",
    "ob = b()\n",
    "print(ob.func2(30, 20))"
   ]
  },
  {
   "cell_type": "code",
   "execution_count": 7,
   "id": "98381015-10a9-4f3c-b21b-4592dd388996",
   "metadata": {},
   "outputs": [
    {
     "name": "stdout",
     "output_type": "stream",
     "text": [
      "its func1\n",
      "its func2\n"
     ]
    }
   ],
   "source": [
    "class a:\n",
    "    def __init__(self):\n",
    "        print(\"its func1\")\n",
    "class b(a):\n",
    "    def one(self):\n",
    "        print(\"its func2\")\n",
    "ob=b()\n",
    "ob.one()"
   ]
  },
  {
   "cell_type": "code",
   "execution_count": 9,
   "id": "e93a1b25-675c-455f-8f11-6d29c5d74319",
   "metadata": {},
   "outputs": [
    {
     "name": "stdout",
     "output_type": "stream",
     "text": [
      "Aneesh Sarfras\n"
     ]
    }
   ],
   "source": [
    "class Brot:\n",
    "    def __init__(self, third, fourth):\n",
    "        self.third = third\n",
    "        self.fourth = fourth\n",
    "    \n",
    "class Brijyon(Brot):\n",
    "    def __init__(self, first, third, fourth):\n",
    "        self.first = first\n",
    "        super().__init__(third, fourth)\n",
    "    \n",
    "vadamakkale = Brijyon(\"Aneesh\", \"Sarfras\", \"Cousin\")\n",
    "print(vadamakkale.first, vadamakkale.third)"
   ]
  },
  {
   "cell_type": "code",
   "execution_count": 10,
   "id": "eec661cd-b3ff-4fc3-ac3b-5d2c674edcb2",
   "metadata": {},
   "outputs": [
    {
     "name": "stdout",
     "output_type": "stream",
     "text": [
      "16\n"
     ]
    }
   ],
   "source": [
    "class Parent:\n",
    "    def __init__(self,x,y):\n",
    "        self.x=x\n",
    "        self.y=y\n",
    "class Child(Parent):\n",
    "    def __init__(self,one,two,three):\n",
    "        super().__init__(one,two)\n",
    "        self.three=three\n",
    "        self.res=one+two+three\n",
    "    \n",
    "ob=Child(3,5,8)\n",
    "print(ob.res)"
   ]
  },
  {
   "cell_type": "markdown",
   "id": "44c7c702-206a-4ae0-ad5e-2053e36b4b09",
   "metadata": {},
   "source": [
    "## polymorphism"
   ]
  },
  {
   "cell_type": "code",
   "execution_count": 11,
   "id": "240abc45-45e4-4f66-9a57-54aeafe153c0",
   "metadata": {},
   "outputs": [
    {
     "name": "stdout",
     "output_type": "stream",
     "text": [
      "1 year\n"
     ]
    }
   ],
   "source": [
    "class mearn:\n",
    "    def duration(self):\n",
    "        print(\"7 month\")\n",
    "class datascience:\n",
    "    def duration(self):\n",
    "        print(\"1 year\")\n",
    "    \n",
    "def ad(tex):\n",
    "    \ttex.duration()\n",
    "    \n",
    "sarfras=datascience()\n",
    "ad(sarfras)"
   ]
  },
  {
   "cell_type": "markdown",
   "id": "8f233eed-9316-4eb5-9202-7a339f09c931",
   "metadata": {},
   "source": [
    " ### operator overloading"
   ]
  },
  {
   "cell_type": "code",
   "execution_count": 12,
   "id": "b976c531-47cd-4535-a015-609e7e6606b8",
   "metadata": {},
   "outputs": [
    {
     "name": "stdout",
     "output_type": "stream",
     "text": [
      "(8, 15)\n"
     ]
    }
   ],
   "source": [
    "    class operator:\n",
    "        def __init__(self,x,y):\n",
    "            self.x=x\n",
    "            self.y=y\n",
    "        def __add__(self, other):\n",
    "            a=self.x+other.x\n",
    "            b=self.y+other.y\n",
    "            return a,b\n",
    "    ob1=operator(3,6)\n",
    "    ob2=operator(5,9)\n",
    "    result=ob1+ob2\n",
    "    print(result)"
   ]
  },
  {
   "cell_type": "markdown",
   "id": "7ef45d17-2ed1-4563-ad40-b57e8e483549",
   "metadata": {},
   "source": [
    "### method overriding"
   ]
  },
  {
   "cell_type": "code",
   "execution_count": 13,
   "id": "bc7db037-97d8-4067-bf18-e6da0a57c6ab",
   "metadata": {},
   "outputs": [
    {
     "name": "stdout",
     "output_type": "stream",
     "text": [
      "specific sounds\n",
      "meoww\n"
     ]
    }
   ],
   "source": [
    "    class animal:\n",
    "        def sound(self):\n",
    "            return \"specific sounds\"\n",
    "    class cat(animal):\n",
    "        def sound(self):\n",
    "            return \"meoww\"\n",
    "    ob=animal()\n",
    "    ob1=cat()\n",
    "    print(ob.sound())\n",
    "    print(ob1.sound())"
   ]
  },
  {
   "cell_type": "markdown",
   "id": "17560dc9-8498-40e7-8f14-801a4f2c9a46",
   "metadata": {},
   "source": [
    "### method overloading (directley not possible in python)"
   ]
  },
  {
   "cell_type": "code",
   "execution_count": 14,
   "id": "68ebdee8-6893-4655-8f2b-e5ba30a8a18b",
   "metadata": {},
   "outputs": [
    {
     "name": "stdout",
     "output_type": "stream",
     "text": [
      "11\n"
     ]
    }
   ],
   "source": [
    "    class math:\n",
    "        def adder(self,x=None,y=None,z=None):\n",
    "            if x!=None and y!=None and z!=None:\n",
    "                result=x+y+z\n",
    "            elif x!=None and y!=None:\n",
    "                result=x+y\n",
    "            else:\n",
    "                result=x\n",
    "            return result\n",
    "    ob=math()\n",
    "    print(ob.adder(4,7))"
   ]
  },
  {
   "cell_type": "markdown",
   "id": "89d74a43-15d3-4f78-8d18-290952f4286e",
   "metadata": {},
   "source": [
    "## abstraction"
   ]
  },
  {
   "cell_type": "code",
   "execution_count": 18,
   "id": "ccc6833e-d364-443f-881b-754325b274b3",
   "metadata": {},
   "outputs": [
    {
     "name": "stdout",
     "output_type": "stream",
     "text": [
      "credit card is processing\n",
      "online banking\n"
     ]
    }
   ],
   "source": [
    "    from abc import ABC, abstractmethod\n",
    "    class Method(ABC):\n",
    "        @abstractmethod\n",
    "        def process(self):\n",
    "            pass\n",
    "    class Credit(Method):\n",
    "        def process(self):\n",
    "            print(\"credit card is processing\")\n",
    "            return\n",
    "    class Online(Method):\n",
    "        def process(self):\n",
    "            print(\"online banking\")\n",
    "            return\n",
    "    user1=Credit()\n",
    "    user2=Online()\n",
    "    user1.process()\n",
    "    user2.process()"
   ]
  },
  {
   "cell_type": "markdown",
   "id": "efc9566d-9dab-45d2-9fe5-0014e70f24d4",
   "metadata": {},
   "source": [
    "## iterator"
   ]
  },
  {
   "cell_type": "code",
   "execution_count": 19,
   "id": "09c1400a-7072-40d3-9950-7a5121fe947a",
   "metadata": {},
   "outputs": [
    {
     "name": "stdout",
     "output_type": "stream",
     "text": [
      "1\n",
      "2\n",
      "43\n"
     ]
    }
   ],
   "source": [
    "    lis=(1,2,43,5,76,78)\n",
    "    ob=iter(lis)\n",
    "    print(next(ob))\n",
    "    print(next(ob))\n",
    "    print(next(ob))"
   ]
  },
  {
   "cell_type": "markdown",
   "id": "71d16b60-fa0b-45a1-abca-c62b7ae2811a",
   "metadata": {},
   "source": [
    "## generater"
   ]
  },
  {
   "cell_type": "code",
   "execution_count": 20,
   "id": "37c433a3-5d16-4b7c-b24b-4da39e403347",
   "metadata": {},
   "outputs": [
    {
     "name": "stdout",
     "output_type": "stream",
     "text": [
      "1\n",
      "2\n",
      "3\n"
     ]
    }
   ],
   "source": [
    "    def gen():\n",
    "        yield 1\n",
    "        yield 2\n",
    "        yield 3\n",
    "    ob=gen()\n",
    "    print(next(ob))\n",
    "    print(next(ob))\n",
    "    print(next(ob))"
   ]
  },
  {
   "cell_type": "markdown",
   "id": "59d2dd03-ba27-4ea0-90f7-edf6f184ed92",
   "metadata": {},
   "source": [
    "## recursion"
   ]
  },
  {
   "cell_type": "code",
   "execution_count": 21,
   "id": "261a8c2a-51c5-41bb-b2ad-6208a111db93",
   "metadata": {},
   "outputs": [
    {
     "name": "stdout",
     "output_type": "stream",
     "text": [
      "720\n"
     ]
    }
   ],
   "source": [
    "    def fact(num):\n",
    "        if num==0:\n",
    "            return 1\n",
    "        else:\n",
    "            return num*fact(num-1)\n",
    "    print(fact(6))"
   ]
  },
  {
   "cell_type": "code",
   "execution_count": 22,
   "id": "2792288d-5afb-4141-ba5a-c5bafcb71970",
   "metadata": {},
   "outputs": [
    {
     "name": "stdout",
     "output_type": "stream",
     "text": [
      "0\n",
      "1\n",
      "1\n",
      "2\n",
      "3\n",
      "5\n",
      "8\n",
      "13\n",
      "21\n",
      "34\n"
     ]
    }
   ],
   "source": [
    "    \tdef fib(num):\n",
    "    \t    if num==0:\n",
    "    \t        return 0\n",
    "    \t    elif num==1:\n",
    "    \t        return 1\n",
    "    \t    else:\n",
    "    \t        return fib(num-1)+fib(num-2)\n",
    "    \tfor i in range(10):\n",
    "    \t    print(fib(i))"
   ]
  },
  {
   "cell_type": "markdown",
   "id": "e3ba9b24-6fd2-455f-9a3a-7bf300d73469",
   "metadata": {},
   "source": [
    "## currying"
   ]
  },
  {
   "cell_type": "code",
   "execution_count": 23,
   "id": "cf5cfee3-30f2-44fc-a804-8b2096ed403b",
   "metadata": {},
   "outputs": [
    {
     "name": "stdout",
     "output_type": "stream",
     "text": [
      "9\n"
     ]
    }
   ],
   "source": [
    "    def adder(num):\n",
    "        def seco(ano):\n",
    "            s=num+ano\n",
    "            return s\n",
    "        return seco\n",
    "    ob=adder(4)\n",
    "    ob2=ob(5)\n",
    "    print(ob2)"
   ]
  },
  {
   "cell_type": "markdown",
   "id": "dd8e37ea-fe0f-4f9d-b71e-3cb3302d4d9f",
   "metadata": {},
   "source": [
    "## closure"
   ]
  },
  {
   "cell_type": "code",
   "execution_count": 24,
   "id": "37c5a961-ca28-49c1-a367-ff071fbafb98",
   "metadata": {},
   "outputs": [
    {
     "name": "stdout",
     "output_type": "stream",
     "text": [
      "True\n"
     ]
    }
   ],
   "source": [
    "    def greater(x):\n",
    "        def greater_than(y):\n",
    "            return y>x\n",
    "        return greater_than\n",
    "    ob=greater(3)\n",
    "    print(ob(6))"
   ]
  },
  {
   "cell_type": "markdown",
   "id": "35cb0140-6551-412d-b599-312ed85af8eb",
   "metadata": {},
   "source": [
    "## file handling"
   ]
  },
  {
   "cell_type": "markdown",
   "id": "ff56de57-607e-4fad-9935-44fc1d014dcc",
   "metadata": {},
   "source": [
    "### Using `open`:"
   ]
  },
  {
   "cell_type": "code",
   "execution_count": 27,
   "id": "ea52b0d7-dfff-42ab-9f13-4f5648f46c96",
   "metadata": {},
   "outputs": [],
   "source": [
    "\n",
    "    # file=open('dd','r')\n",
    "    # cont=file.read()\n",
    "    # print(cont)\n",
    "    # file.close()\n",
    "    "
   ]
  },
  {
   "cell_type": "markdown",
   "id": "be36e848-64e9-4e39-8111-96481b3ac696",
   "metadata": {},
   "source": [
    "### Using `with`:"
   ]
  },
  {
   "cell_type": "code",
   "execution_count": null,
   "id": "d9f0f7d5-5726-4619-84bf-4405124ae4b8",
   "metadata": {},
   "outputs": [],
   "source": [
    "    # with open('filename.txt', 'r') as file:\n",
    "    #     content = file.read()"
   ]
  },
  {
   "cell_type": "code",
   "execution_count": 28,
   "id": "54fd337b-3991-4de9-b57a-f511fd2d25cb",
   "metadata": {},
   "outputs": [
    {
     "ename": "FileNotFoundError",
     "evalue": "[Errno 2] No such file or directory: 'keystrokes.txt'",
     "output_type": "error",
     "traceback": [
      "\u001b[1;31m---------------------------------------------------------------------------\u001b[0m",
      "\u001b[1;31mFileNotFoundError\u001b[0m                         Traceback (most recent call last)",
      "Cell \u001b[1;32mIn[28], line 1\u001b[0m\n\u001b[1;32m----> 1\u001b[0m word \u001b[38;5;241m=\u001b[39m \u001b[38;5;28mopen\u001b[39m(\u001b[38;5;124m'\u001b[39m\u001b[38;5;124mkeystrokes.txt\u001b[39m\u001b[38;5;124m'\u001b[39m, \u001b[38;5;124m'\u001b[39m\u001b[38;5;124mr\u001b[39m\u001b[38;5;124m'\u001b[39m)\n\u001b[0;32m      2\u001b[0m n \u001b[38;5;241m=\u001b[39m word\u001b[38;5;241m.\u001b[39mread()\n\u001b[0;32m      3\u001b[0m \u001b[38;5;28mprint\u001b[39m(n)\n",
      "File \u001b[1;32m~\\anaconda3\\Lib\\site-packages\\IPython\\core\\interactiveshell.py:324\u001b[0m, in \u001b[0;36m_modified_open\u001b[1;34m(file, *args, **kwargs)\u001b[0m\n\u001b[0;32m    317\u001b[0m \u001b[38;5;28;01mif\u001b[39;00m file \u001b[38;5;129;01min\u001b[39;00m {\u001b[38;5;241m0\u001b[39m, \u001b[38;5;241m1\u001b[39m, \u001b[38;5;241m2\u001b[39m}:\n\u001b[0;32m    318\u001b[0m     \u001b[38;5;28;01mraise\u001b[39;00m \u001b[38;5;167;01mValueError\u001b[39;00m(\n\u001b[0;32m    319\u001b[0m         \u001b[38;5;124mf\u001b[39m\u001b[38;5;124m\"\u001b[39m\u001b[38;5;124mIPython won\u001b[39m\u001b[38;5;124m'\u001b[39m\u001b[38;5;124mt let you open fd=\u001b[39m\u001b[38;5;132;01m{\u001b[39;00mfile\u001b[38;5;132;01m}\u001b[39;00m\u001b[38;5;124m by default \u001b[39m\u001b[38;5;124m\"\u001b[39m\n\u001b[0;32m    320\u001b[0m         \u001b[38;5;124m\"\u001b[39m\u001b[38;5;124mas it is likely to crash IPython. If you know what you are doing, \u001b[39m\u001b[38;5;124m\"\u001b[39m\n\u001b[0;32m    321\u001b[0m         \u001b[38;5;124m\"\u001b[39m\u001b[38;5;124myou can use builtins\u001b[39m\u001b[38;5;124m'\u001b[39m\u001b[38;5;124m open.\u001b[39m\u001b[38;5;124m\"\u001b[39m\n\u001b[0;32m    322\u001b[0m     )\n\u001b[1;32m--> 324\u001b[0m \u001b[38;5;28;01mreturn\u001b[39;00m io_open(file, \u001b[38;5;241m*\u001b[39margs, \u001b[38;5;241m*\u001b[39m\u001b[38;5;241m*\u001b[39mkwargs)\n",
      "\u001b[1;31mFileNotFoundError\u001b[0m: [Errno 2] No such file or directory: 'keystrokes.txt'"
     ]
    }
   ],
   "source": [
    "    word = open('keystrokes.txt', 'r')\n",
    "    n = word.read()\n",
    "    print(n)\n",
    "    word.close()\n",
    "    \n",
    "    line = 0\n",
    "    for char in n:\n",
    "        if char == '\\n':\n",
    "            line += 1\n",
    "    if n and n[-1] != '\\n':\n",
    "        line += 1\n",
    "    print(f'Total lines: {line}')\n",
    "    \n",
    "    letter_count = 0\n",
    "    letter = n.split()\n",
    "    letter_count = len(letter)\n",
    "    print(f'Total word count: {letter_count}')\n",
    "    \n",
    "    character_count = 0\n",
    "    for word in letter:\n",
    "        character_count += len(word)\n",
    "    print(f'Total number of characters: {character_count}')\n",
    "    \n",
    "    new = {}\n",
    "    for word in letter:\n",
    "        if word in new:\n",
    "            new[word] += 1\n",
    "        else:\n",
    "            new[word] = 1\n",
    "    \n",
    "    most_repeated = sorted(new.items(), key=lambda x: x[1], reverse=True)[:5]\n",
    "    print('5 most repeated words: ', most_repeated)"
   ]
  },
  {
   "cell_type": "markdown",
   "id": "88ef1cec-7df0-4996-b411-ff16b108550e",
   "metadata": {},
   "source": [
    "## shallow copy , deep copy"
   ]
  },
  {
   "cell_type": "code",
   "execution_count": 29,
   "id": "88dd7f57-0ab9-436e-a1c5-0f2586f0b806",
   "metadata": {},
   "outputs": [
    {
     "name": "stdout",
     "output_type": "stream",
     "text": [
      "[[12, 200], [3, 66]]\n",
      "[[12, 200], [3, 66]]\n",
      "[[12, 200], [3, 66]]\n",
      "[[12, 34], [3, 66]]\n"
     ]
    }
   ],
   "source": [
    "    import copy\n",
    "    lis=[[12,34],[3,66]]\n",
    "    shallow=copy.copy(lis)\n",
    "    shallow[0][1]=200\n",
    "    print(shallow)\n",
    "    print(lis)\n",
    "    \n",
    "    import copy\n",
    "    lis=[[12,34],[3,66]]\n",
    "    shallow=copy.deepcopy(lis)\n",
    "    shallow[0][1]=200\n",
    "    print(shallow)\n",
    "    print(lis)"
   ]
  },
  {
   "cell_type": "markdown",
   "id": "65f92d83-3c97-4b75-a566-f4ad9bb1a23f",
   "metadata": {},
   "source": [
    "## error handling"
   ]
  },
  {
   "cell_type": "markdown",
   "id": "68d10663-9315-4b8c-ae7a-96a5234faae4",
   "metadata": {},
   "source": [
    "1. Common Built-in Exceptions\n",
    "    \n",
    "    | **Exception** | **Description** |\n",
    "    | --- | --- |\n",
    "    | `Exception` | Base class for all exceptions. |\n",
    "    | `ArithmeticError` | Base class for arithmetic errors (e.g., division by zero). |\n",
    "    | `ZeroDivisionError` | Raised when dividing by zero. |\n",
    "    | `ValueError` | Raised when an operation receives an argument of the correct type but inappropriate value. |\n",
    "    | `TypeError` | Raised when an operation is performed on an inappropriate type. |\n",
    "    | `IndexError` | Raised when an index is out of range in a list, tuple, etc. |\n",
    "    | `KeyError` | Raised when a dictionary key is not found. |\n",
    "    | `NameError` | Raised when a variable is not found in the local or global scope. |"
   ]
  },
  {
   "cell_type": "code",
   "execution_count": 30,
   "id": "d337be1f-5cdf-46bc-be2e-1806bc3c5f5e",
   "metadata": {},
   "outputs": [
    {
     "name": "stdin",
     "output_type": "stream",
     "text": [
      "enter a number 2\n",
      "enter anothor number 3\n"
     ]
    },
    {
     "name": "stdout",
     "output_type": "stream",
     "text": [
      "second number 3 divided by first number 2 is 1\n",
      "check\n",
      "finished\n"
     ]
    }
   ],
   "source": [
    "    try:\n",
    "        num1=int(input(\"enter a number\"))\n",
    "        num2=int(input(\"enter anothor number\"))\n",
    "    \n",
    "        div=num2//num1\n",
    "        print(f\"second number {num2} divided by first number {num1} is {div}\")\n",
    "    except ZeroDivisionError:\n",
    "        print(\"cant divide with zero\")\n",
    "    except ValueError as e:\n",
    "        print(e)\n",
    "    except TypeError as t:\n",
    "        print(t)\n",
    "    else:\n",
    "        print(\"check\")\n",
    "    finally:\n",
    "        print(\"finished\")"
   ]
  },
  {
   "cell_type": "markdown",
   "id": "7b56502f-2f60-4dcc-bdd8-f52a75cbc551",
   "metadata": {},
   "source": [
    " ## zip ,map"
   ]
  },
  {
   "cell_type": "markdown",
   "id": "1e00712d-4553-407a-b6fe-0ab04a85cb2f",
   "metadata": {},
   "source": [
    "### zip"
   ]
  },
  {
   "cell_type": "code",
   "execution_count": 31,
   "id": "e5c79347-8850-4e8c-8117-80d856576081",
   "metadata": {},
   "outputs": [
    {
     "name": "stdout",
     "output_type": "stream",
     "text": [
      "((1, 9), (2, 8), (3, 7), (4, 6), (5, 5))\n"
     ]
    }
   ],
   "source": [
    "    lis=[1,2,3,4,5,6]\n",
    "    lis1=(9,8,7,6,5)\n",
    "    res=zip(lis,lis1)\n",
    "    print(tuple(res))"
   ]
  },
  {
   "cell_type": "markdown",
   "id": "984a0d46-3792-47a2-928a-204cf35fa7ad",
   "metadata": {},
   "source": [
    "### unzipping"
   ]
  },
  {
   "cell_type": "code",
   "execution_count": 32,
   "id": "56fe25b3-1f5d-4021-af36-c3850e1ad486",
   "metadata": {},
   "outputs": [
    {
     "name": "stdout",
     "output_type": "stream",
     "text": [
      "(1, 3)\n"
     ]
    }
   ],
   "source": [
    "    lis=[(1,2),(3,4)]\n",
    "    s,i=zip(*lis)\n",
    "    print(s)"
   ]
  },
  {
   "cell_type": "markdown",
   "id": "48063580-423f-4857-87c3-24a4fb6b9bb1",
   "metadata": {},
   "source": [
    "### map"
   ]
  },
  {
   "cell_type": "code",
   "execution_count": 33,
   "id": "dbb62266-ca9b-4b28-877d-979db6990b17",
   "metadata": {},
   "outputs": [
    {
     "name": "stdout",
     "output_type": "stream",
     "text": [
      "[1, 4, 9, 16, 25]\n",
      "[4, 9, 25, 36, 49, 64, 64]\n"
     ]
    }
   ],
   "source": [
    "    def sq(num):\n",
    "        r=num**2\n",
    "        return r\n",
    "    lis=[1,2,3,4,5]\n",
    "    ob=map(sq,lis)\n",
    "    print(list(ob))\n",
    "    \n",
    "    ls=[2,3,5,6,7,8,8]\n",
    "    ob=map(lambda x:x**2,ls)\n",
    "    print(list(ob))"
   ]
  },
  {
   "cell_type": "markdown",
   "id": "7847bf61-e569-458a-b356-26dba9b6b98a",
   "metadata": {},
   "source": [
    "## lambda"
   ]
  },
  {
   "cell_type": "code",
   "execution_count": 34,
   "id": "65898fa3-48ba-4f75-a814-b4e140900f40",
   "metadata": {},
   "outputs": [
    {
     "name": "stdout",
     "output_type": "stream",
     "text": [
      "15\n",
      "12\n",
      "(1, 7)\n",
      "False\n",
      "[2, 4, 6, 8]\n",
      "[8, 8, 8, 8, 8, 8, 8, 11]\n",
      "[1, 2, 4, 4, 7, 45]\n",
      "sdkkkkkkgkkkkjhG\n"
     ]
    }
   ],
   "source": [
    "    add_ten = lambda x: x + 10 \n",
    "    print(add_ten(5))\n",
    "    \n",
    "    multiply = lambda x, y: x * y \n",
    "    print(multiply(3, 4))\n",
    "    \n",
    "    func=lambda x:(x[0],x[-1])\n",
    "    ls=[1,2,3,4,5,6,7]\n",
    "    print(func(ls))\n",
    "    \n",
    "    check=lambda x:x%2==0\n",
    "    print(check(5))\n",
    "    \n",
    "    ls=[1,2,3,4,5,6,7,8]\n",
    "    f=filter(lambda x:x%2==0,ls)\n",
    "    print(list(f))\n",
    "    \n",
    "    ls=[1,2,3,4,5,6,7,8]\n",
    "    ls1=[7,6,5,4,3,2,1,3]\n",
    "    f=map(lambda x,y:x+y,ls,ls1)\n",
    "    print(list(f))\n",
    "    \n",
    "    ls=[1,2,4,7,45,76,4]\n",
    "    new=list(sorted(filter(lambda x: x!=ls[-2],ls)))\n",
    "    print(new)\n",
    "    \n",
    "    stee='sdkkkkkkgkkkkjhg'\n",
    "    st=lambda x:x[:-1]+x[-1].upper()\n",
    "    print(st(stee))"
   ]
  },
  {
   "cell_type": "markdown",
   "id": "661f8d0a-733f-4645-9055-028262ffd3f1",
   "metadata": {},
   "source": [
    "## list and dict comprehension"
   ]
  },
  {
   "cell_type": "markdown",
   "id": "3b0c23f8-bfc3-4d62-8f23-49f5de03ff05",
   "metadata": {},
   "source": [
    "### list"
   ]
  },
  {
   "cell_type": "code",
   "execution_count": 35,
   "id": "2ead0d49-cbdc-4420-af6a-05fc83e0187b",
   "metadata": {},
   "outputs": [
    {
     "name": "stdout",
     "output_type": "stream",
     "text": [
      "[0, 2, 4, 6, 8, 10, 12, 14, 16, 18]\n",
      "['sheikh', 'sarfras', 'sheikh', 'sarfras', 'sheikh', 'sarfras', 'sheikh', 'sarfras', 'sheikh']\n",
      "['dsgf', 'sdfgfg']\n",
      "[-1, -4, 3, 7, 9, -7]\n",
      "[{'name': 'Bob'}, {'city': 'New York'}]\n"
     ]
    }
   ],
   "source": [
    "        even_numbers = [x for x in range(20) if x % 2 == 0] \n",
    "        print(even_numbers)\n",
    "        \n",
    "        lis=[1,2,3,4,5,6,7,8,9]\n",
    "        new=['sarfras' if i%2==0 else \"sheikh\" for i in lis ]\n",
    "        print(new)\n",
    "        \n",
    "        nn=[1,2,'dsgf',4,'sdfgfg']\n",
    "        new=[x for x in nn if type(x) is str]\n",
    "        print(new)\n",
    "        \n",
    "        ls=[-1,-4,3,2,7,6,9,-7]\n",
    "        new=[x for x in ls if x<0 or x%2!=0]\n",
    "        print(new)\n",
    "        \n",
    "        data = [\n",
    "            {\"name\": \"Alice\", \"age\": 25},\n",
    "            {\"name\": \"Bob\"},\n",
    "            {\"name\": \"Charlie\", \"age\": 28},\n",
    "            {\"city\": \"New York\"}\n",
    "        ]\n",
    "        data=[d for d in data if 'age' not in d]\n",
    "        print(data)"
   ]
  },
  {
   "cell_type": "markdown",
   "id": "00f1e651-c77b-406d-9fe5-75b07e390e32",
   "metadata": {},
   "source": [
    "### dict"
   ]
  },
  {
   "cell_type": "code",
   "execution_count": 37,
   "id": "8bf0aaa9-b988-4ffe-a308-793c404b8cb0",
   "metadata": {},
   "outputs": [
    {
     "name": "stdout",
     "output_type": "stream",
     "text": [
      "{1: 1, 2: 4, 3: 9, 4: 16, 5: 25}\n",
      "{0: 0, 2: 4, 4: 16, 6: 36, 8: 64}\n",
      "{'a': 10, 'c': 15}\n"
     ]
    }
   ],
   "source": [
    "        numbers = [1, 2, 3, 4, 5] \n",
    "        squared_dict = {x: x**2 for x in numbers} \n",
    "        print(squared_dict)\n",
    "        \n",
    "        numbers = range(10) \n",
    "        even_squares = {x: x**2 for x in numbers if x % 2 == 0} \n",
    "        print(even_squares)\n",
    "        \n",
    "        data = {'a': 10, 'b': 20, 'c': 15, 'd': 20}\n",
    "        maxi=max(data.values())\n",
    "        data={i:j for i,j in data.items() if j!=maxi}\n",
    "        print(data)"
   ]
  },
  {
   "cell_type": "markdown",
   "id": "72805f26-0ea8-4721-927e-8ddf812f4be9",
   "metadata": {},
   "source": [
    "## packing and unpacking"
   ]
  },
  {
   "cell_type": "code",
   "execution_count": 38,
   "id": "f0053f8d-86f2-4fba-95e6-45bad0fe5a31",
   "metadata": {},
   "outputs": [
    {
     "name": "stdout",
     "output_type": "stream",
     "text": [
      "[2, 4, 5, 3, 6]\n",
      "(1, 5, 4, 7, 3, 9)\n"
     ]
    }
   ],
   "source": [
    "    def packing(*args):\n",
    "        print(list(args))\n",
    "    packing(2,4,5,3,6)\n",
    "    \n",
    "    #unpacking\n",
    "    def unpacking(num):\n",
    "        a,*args=num\n",
    "        return a,*args\n",
    "    lis=[1,5,4,7,3,9]\n",
    "    ob=unpacking(lis)\n",
    "    print(ob)"
   ]
  },
  {
   "cell_type": "markdown",
   "id": "9ba2df23-b3e4-4744-82bc-b095f00a13c8",
   "metadata": {},
   "source": [
    "## MRO"
   ]
  },
  {
   "cell_type": "code",
   "execution_count": 39,
   "id": "b7ab171c-7fb2-47ce-bf16-c6e74d20857c",
   "metadata": {},
   "outputs": [
    {
     "name": "stdout",
     "output_type": "stream",
     "text": [
      "hello\n",
      "(<class '__main__.b'>, <class '__main__.a'>, <class 'object'>)\n"
     ]
    }
   ],
   "source": [
    "    class a:\n",
    "        def fun(self):\n",
    "            return \"hello\"\n",
    "    class b(a):\n",
    "        pass\n",
    "    \n",
    "    ob=b()\n",
    "    print(ob.fun())\n",
    "    print(b.__mro__)"
   ]
  },
  {
   "cell_type": "markdown",
   "id": "0ea801ce-6f46-401b-bc1c-485eb37e2ba3",
   "metadata": {},
   "source": [
    "## while"
   ]
  },
  {
   "cell_type": "code",
   "execution_count": 40,
   "id": "9240fad5-9893-4b0d-98ec-e750b85ec5aa",
   "metadata": {},
   "outputs": [
    {
     "name": "stdout",
     "output_type": "stream",
     "text": [
      "0\n",
      "1\n",
      "2\n",
      "3\n",
      "4\n",
      "55\n"
     ]
    }
   ],
   "source": [
    "    count=0\n",
    "    while count<5:\n",
    "        print(count)\n",
    "        count+=1\n",
    "      \n",
    "      \n",
    "        \n",
    "    total=0\n",
    "    num=1\n",
    "    while num<=10:\n",
    "        total+=num\n",
    "        num+=1\n",
    "    print(total)"
   ]
  },
  {
   "cell_type": "markdown",
   "id": "b3b41b1f-604a-42e4-b577-1cca9aa2e79a",
   "metadata": {},
   "source": [
    "# **Part 2:logical**\n"
   ]
  },
  {
   "cell_type": "markdown",
   "id": "0b268da6-edb0-46eb-b7ee-d40e12e0feb9",
   "metadata": {},
   "source": [
    "## vovals"
   ]
  },
  {
   "cell_type": "code",
   "execution_count": 42,
   "id": "f32b5589-02a2-4725-bb18-7d1312c0f75f",
   "metadata": {},
   "outputs": [
    {
     "name": "stdout",
     "output_type": "stream",
     "text": [
      "{'s': 0, 'a': 0, 'f': 0, 'e': 3, 'i': 1, 'r': 0, 'd': 0}\n"
     ]
    }
   ],
   "source": [
    "    def voval(text):\n",
    "        vov=\"aeiouAEIOU\"\n",
    "        new={}\n",
    "        for i in text:\n",
    "            if i in vov:\n",
    "                if i in new:\n",
    "                    new[i]+=1\n",
    "                else:\n",
    "                    new[i]=0\n",
    "            else:\n",
    "                new[i] = 0\n",
    "        return new\n",
    "    ob=voval(\"safeeieierfrsdf\")\n",
    "    print(ob)"
   ]
  },
  {
   "cell_type": "markdown",
   "id": "191a4f7d-0e31-47ec-aa4d-e75f460b0453",
   "metadata": {},
   "source": [
    "## reverse"
   ]
  },
  {
   "cell_type": "markdown",
   "id": "9b22e2bf-353a-4ddc-8a31-8c69937cff7f",
   "metadata": {},
   "source": [
    "### str reverse"
   ]
  },
  {
   "cell_type": "code",
   "execution_count": 43,
   "id": "00de11c1-2264-45ab-a7c5-34e66a8aa15a",
   "metadata": {},
   "outputs": [
    {
     "name": "stdin",
     "output_type": "stream",
     "text": [
      "enter hello\n"
     ]
    },
    {
     "name": "stdout",
     "output_type": "stream",
     "text": [
      "olleh\n"
     ]
    }
   ],
   "source": [
    "    def rev(str):\n",
    "        new=\"\"\n",
    "        for i in range(len(str)-1,-1,-1):\n",
    "            new+=str[i]\n",
    "        return new\n",
    "    string=input(\"enter\")\n",
    "    revers=rev(string)\n",
    "    print(revers)"
   ]
  },
  {
   "cell_type": "markdown",
   "id": "851fda65-8e12-4df2-a998-11ab1d684e04",
   "metadata": {},
   "source": [
    "### word reverse"
   ]
  },
  {
   "cell_type": "code",
   "execution_count": 45,
   "id": "ea936312-5b01-425c-b3a3-557f7309692e",
   "metadata": {},
   "outputs": [
    {
     "name": "stdin",
     "output_type": "stream",
     "text": [
      "enter hello i am sarfras\n"
     ]
    },
    {
     "name": "stdout",
     "output_type": "stream",
     "text": [
      "sarfras am i hello \n"
     ]
    }
   ],
   "source": [
    "    def rev(str):\n",
    "        new=\"\"\n",
    "        word=str.split()\n",
    "        for i in range(len(word)-1,-1,-1):\n",
    "            new+=word[i]+\" \"\n",
    "        return new\n",
    "    string=input(\"enter\")\n",
    "    revers=rev(string)\n",
    "    print(revers)"
   ]
  },
  {
   "cell_type": "markdown",
   "id": "2978cef8-0118-4be8-9c46-1e26df62a06b",
   "metadata": {},
   "source": [
    "## slicing"
   ]
  },
  {
   "cell_type": "code",
   "execution_count": 47,
   "id": "3f91921c-c47c-4014-8ad9-29d6cbc339e3",
   "metadata": {},
   "outputs": [
    {
     "name": "stdout",
     "output_type": "stream",
     "text": [
      "sareeers\n"
     ]
    }
   ],
   "source": [
    "    sr=\"sreeeras\"\n",
    "    lis=sr[::-1]\n",
    "    print(lis)"
   ]
  },
  {
   "cell_type": "markdown",
   "id": "abac7d6d-2b88-4815-9eec-8e3ff10a59bb",
   "metadata": {},
   "source": [
    " ## positional slicing"
   ]
  },
  {
   "cell_type": "code",
   "execution_count": 49,
   "id": "62b08f9d-08e8-4d5d-9bee-48de3a7a39cc",
   "metadata": {},
   "outputs": [
    {
     "name": "stdout",
     "output_type": "stream",
     "text": [
      "[4, 3, 2, 11, 6, 8, 10]\n"
     ]
    }
   ],
   "source": [
    "    lsi=[11,2,3,4,5,6,7,8,9,10]\n",
    "    lsi1=lsi[:4][::-1]+lsi[5:][::2]\n",
    "    print(lsi1)"
   ]
  },
  {
   "cell_type": "markdown",
   "id": "619bf81d-678c-45bc-8df2-127516a16d20",
   "metadata": {},
   "source": [
    "## int reverse"
   ]
  },
  {
   "cell_type": "code",
   "execution_count": 50,
   "id": "0f7f54cf-6b7a-4251-9e82-342a11eba225",
   "metadata": {},
   "outputs": [
    {
     "name": "stdout",
     "output_type": "stream",
     "text": [
      "[7, 6, 5, 4, 3, 2, 1]\n"
     ]
    }
   ],
   "source": [
    "    def rev(num):\n",
    "        new=[]\n",
    "        for i in range(len(num)-1,-1,-1):\n",
    "            new.append(num[i])\n",
    "        return new\n",
    "    lis=[1,2,3,4,5,6,7]\n",
    "    ob=rev(lis)\n",
    "    print(ob)"
   ]
  },
  {
   "cell_type": "markdown",
   "id": "5ee951ef-d582-4633-a243-cc4ea4c4fa78",
   "metadata": {},
   "source": [
    "## odd ,even check"
   ]
  },
  {
   "cell_type": "code",
   "execution_count": 51,
   "id": "056573de-4dd2-45b6-b13b-0c0b84f17f8d",
   "metadata": {},
   "outputs": [
    {
     "name": "stdout",
     "output_type": "stream",
     "text": [
      "[2, 4, 6, 8]\n",
      "[1, 3, 5, 7, 9]\n"
     ]
    }
   ],
   "source": [
    "    lis=[1,2,3,4,5,6,7,8,9]\n",
    "    def type(num):\n",
    "        new=[]\n",
    "        new1=[]\n",
    "        for i in range(len(num)):\n",
    "            if num[i]%2==0:\n",
    "                new.append(num[i])\n",
    "            else:\n",
    "                new1.append(num[i])\n",
    "        return new,new1\n",
    "    even,odd=type(lis)\n",
    "    print(even)\n",
    "    print(odd)"
   ]
  },
  {
   "cell_type": "markdown",
   "id": "7d05d370-06bd-436d-95b5-a57975a888b2",
   "metadata": {},
   "source": [
    "## prime"
   ]
  },
  {
   "cell_type": "code",
   "execution_count": 53,
   "id": "a714c1d5-3315-4bc1-a125-595695908d58",
   "metadata": {},
   "outputs": [
    {
     "name": "stdin",
     "output_type": "stream",
     "text": [
      " 5\n"
     ]
    },
    {
     "name": "stdout",
     "output_type": "stream",
     "text": [
      "its prime\n"
     ]
    }
   ],
   "source": [
    "    def prime(num):\n",
    "        for i in range(2,num):\n",
    "            if num%i==0:\n",
    "                print(\"its not prime\")\n",
    "                break\n",
    "        else:\n",
    "            print(\"its prime\")\n",
    "        return\n",
    "    \n",
    "    primenum = int(input())\n",
    "    numb=prime(primenum)"
   ]
  },
  {
   "cell_type": "markdown",
   "id": "a7e591ec-db9e-4388-b26c-af5d419242f4",
   "metadata": {},
   "source": [
    "## dictioneries"
   ]
  },
  {
   "cell_type": "code",
   "execution_count": 55,
   "id": "869ba064-2d40-425e-9356-f960b792fce5",
   "metadata": {},
   "outputs": [
    {
     "name": "stdout",
     "output_type": "stream",
     "text": [
      "[{'name': 'Daisy', 'math': 95, 'science': 92, 'english': 89, 'average': 92.0}, {'name': 'Bob', 'math': 92, 'science': 88, 'english': 95, 'average': 91.66666666666667}, {'name': 'Alice', 'math': 85, 'science': 90, 'english': 78, 'average': 84.33333333333333}, {'name': 'Charlie', 'math': 70, 'science': 65, 'english': 72, 'average': 69.0}]\n",
      "high\n",
      "Daisy 92.0\n"
     ]
    }
   ],
   "source": [
    "students = [\n",
    "        {\"name\": \"Alice\", \"math\": 85, \"science\": 90, \"english\": 78},\n",
    "        {\"name\": \"Bob\", \"math\": 92, \"science\": 88, \"english\": 95},\n",
    "        {\"name\": \"Charlie\", \"math\": 70, \"science\": 65, \"english\": 72},\n",
    "        {\"name\": \"Daisy\", \"math\": 95, \"science\": 92, \"english\": 89}\n",
    "    ]\n",
    "for student in students:\n",
    "    student[\"average\"]=(student[\"math\"]+student[\"science\"]+student[\"english\"])/3\n",
    "students.sort(key=lambda x:x[\"average\"],reverse=True)\n",
    "print(students)\n",
    "    \n",
    "print(\"high\")\n",
    "print(students[0][\"name\"],students[0][\"average\"])"
   ]
  },
  {
   "cell_type": "code",
   "execution_count": 56,
   "id": "637317c4-55c6-49d1-8a88-86690df28fd0",
   "metadata": {},
   "outputs": [
    {
     "name": "stdout",
     "output_type": "stream",
     "text": [
      "{'name': 'Alice', 'age': 25, 'city': 'New York'}\n"
     ]
    }
   ],
   "source": [
    "    keys = ['name', 'age', 'city']\n",
    "    values = ['Alice', 25, 'New York']\n",
    "    print(dict(zip(keys, values)))"
   ]
  },
  {
   "cell_type": "code",
   "execution_count": 57,
   "id": "6de98ec0-1b69-4048-b9fb-97addbb4b6c0",
   "metadata": {},
   "outputs": [
    {
     "name": "stdout",
     "output_type": "stream",
     "text": [
      "{'namsde': 'Alidsce', 'age': 25, 'citdds': 'New44 York', 'name': 'Alice', 'city': 'New York'}\n"
     ]
    }
   ],
   "source": [
    "    keys = {'name': 'Alice', 'age': 25, 'city': 'New York'}\n",
    "    values = {'namsde': 'Alidsce', 'age': 245, 'citdds': 'New44 York'}\n",
    "    new=values.copy()\n",
    "    for i,j in keys.items():\n",
    "        new[i]=j\n",
    "    print(new)"
   ]
  },
  {
   "cell_type": "code",
   "execution_count": 58,
   "id": "63feeb49-0d6c-45ad-813d-ff223b42f1b1",
   "metadata": {},
   "outputs": [
    {
     "name": "stdout",
     "output_type": "stream",
     "text": [
      "{'a': 23, 'b': 56, 'c': 111, 'd': 23, 'e': 55}\n"
     ]
    }
   ],
   "source": [
    "    dic1={'a':23,'b':56,'c':55}\n",
    "    dic2={'d':23,'c':56,'e':55}\n",
    "    merged=dic1.copy()\n",
    "    for i,j in dic2.items():\n",
    "        if i in merged:\n",
    "            merged[i]+=j\n",
    "        else:\n",
    "            merged[i]=j\n",
    "    print(merged)"
   ]
  },
  {
   "cell_type": "code",
   "execution_count": 60,
   "id": "6077bfff-9c08-402f-b3b4-54da4c1ab6e7",
   "metadata": {},
   "outputs": [
    {
     "name": "stdout",
     "output_type": "stream",
     "text": [
      "c\n",
      "c\n"
     ]
    }
   ],
   "source": [
    "    dicc={1:'a',2:'b',3:'c'}\n",
    "    def dic(val):\n",
    "        ma=None\n",
    "        for i in val:\n",
    "            if ma is None or i > ma:\n",
    "                ma=i\n",
    "        return val[ma]\n",
    "    ob=dic(dicc)\n",
    "    print(ob)\n",
    "    \n",
    "    dicc={1:'a',2:'b',3:'c'}\n",
    "    def dic(val):\n",
    "        maxi=max(val.keys())\n",
    "        return val[maxi]\n",
    "    ob=dic(dicc)\n",
    "    print(ob)"
   ]
  },
  {
   "cell_type": "code",
   "execution_count": 61,
   "id": "ef5af5c7-60d1-444e-a54d-a6065fca268b",
   "metadata": {},
   "outputs": [
    {
     "name": "stdout",
     "output_type": "stream",
     "text": [
      "{1: 'f', 5: 'd', 3: 'y'}\n"
     ]
    }
   ],
   "source": [
    "    dic={1:'f',5:'d',6:'s',3:'y'}\n",
    "    def remo(one):\n",
    "        maxi=None\n",
    "        new={}\n",
    "        for i in one:\n",
    "            if maxi is None or i>maxi:\n",
    "                maxi=i\n",
    "        for k,j in one.items():\n",
    "            if k!=maxi:\n",
    "                new[k]=j\n",
    "        return new\n",
    "    ob=remo(dic)\n",
    "    print(ob)"
   ]
  },
  {
   "cell_type": "code",
   "execution_count": 62,
   "id": "17286763-1ef4-4699-b1e7-b6d621985a88",
   "metadata": {},
   "outputs": [
    {
     "name": "stdout",
     "output_type": "stream",
     "text": [
      "{1: 66, 6: 22, 3: 77}\n"
     ]
    }
   ],
   "source": [
    "    dic={1:66,5:6666,6:22,3:77}\n",
    "    def remo(one):\n",
    "        maxi=None\n",
    "        new={}\n",
    "        for i,j in one.items():\n",
    "            if maxi is None or j>maxi:\n",
    "                maxi=j\n",
    "        for k,j in one.items():\n",
    "            if j!=maxi:\n",
    "                new[k]=j\n",
    "        return new\n",
    "    ob=remo(dic)\n",
    "    print(ob)"
   ]
  },
  {
   "cell_type": "code",
   "execution_count": 63,
   "id": "4cb95281-7a63-4ae4-ac86-4d9585463926",
   "metadata": {},
   "outputs": [
    {
     "name": "stdout",
     "output_type": "stream",
     "text": [
      "y\n"
     ]
    }
   ],
   "source": [
    "    my_dict = {'x': 500, 'y': 5874, 'z': 560}\n",
    "    key_max = max(my_dict.keys(),key=lambda x:my_dict[x])\n",
    "    print(key_max)"
   ]
  },
  {
   "cell_type": "markdown",
   "id": "641e35df-8a20-4f26-910e-81b6a7d304a4",
   "metadata": {},
   "source": [
    "## sorting"
   ]
  },
  {
   "cell_type": "code",
   "execution_count": 65,
   "id": "fd051ef5-8f96-4320-87b6-0084b837393b",
   "metadata": {},
   "outputs": [
    {
     "name": "stdout",
     "output_type": "stream",
     "text": [
      "[2, 3, 4, 4, 4, 7, 76, 76]\n"
     ]
    }
   ],
   "source": [
    "    def order(num):\n",
    "        for i in range(len(num)):\n",
    "            for j in range(i+1,len(num)):\n",
    "                if num[i]>num[j]:\n",
    "                    num[i],num[j]=num[j],num[i]\n",
    "        return num\n",
    "    lsi=[4,3,2,7,4,76,4,76]\n",
    "    print(order(lsi))"
   ]
  },
  {
   "cell_type": "markdown",
   "id": "7b70e987-4930-445e-bbfe-feba5316f9ec",
   "metadata": {},
   "source": [
    "## missing numer"
   ]
  },
  {
   "cell_type": "code",
   "execution_count": 1,
   "id": "fd7172c3-0e9c-428b-ba2c-a48aacf7b7b7",
   "metadata": {},
   "outputs": [
    {
     "name": "stdout",
     "output_type": "stream",
     "text": [
      "4\n"
     ]
    }
   ],
   "source": [
    "    lis=[1,2,3,5,6,7]\n",
    "    def miss(num):\n",
    "        sumi=0\n",
    "        for i in num:\n",
    "            sumi +=i\n",
    "        average = ((len(num) + 1) * (len(num) + 2)) // 2\n",
    "        missi=average-sumi\n",
    "        return missi\n",
    "    missing=miss(lis)\n",
    "    print(missing)\n",
    "    "
   ]
  },
  {
   "cell_type": "code",
   "execution_count": 2,
   "id": "2c6443e1-d837-4db9-b14c-4ddcaa4bfe50",
   "metadata": {},
   "outputs": [
    {
     "name": "stdout",
     "output_type": "stream",
     "text": [
      "5\n"
     ]
    }
   ],
   "source": [
    "    ls=[1,2,3,4,6,7,8]\n",
    "    for i in range(1,len(ls)+1):\n",
    "        if i not in ls:\n",
    "            print(i)"
   ]
  },
  {
   "cell_type": "markdown",
   "id": "d94e6467-a030-45b4-b83c-4b29d67ad0cd",
   "metadata": {},
   "source": [
    "## factorial"
   ]
  },
  {
   "cell_type": "code",
   "execution_count": 3,
   "id": "2ca96fe0-f350-4de3-be06-1935d997a952",
   "metadata": {},
   "outputs": [
    {
     "name": "stdout",
     "output_type": "stream",
     "text": [
      "362880\n"
     ]
    }
   ],
   "source": [
    "    def fact(num):\n",
    "        for i in range(1,num):\n",
    "            if num<1:\n",
    "                return False\n",
    "            else:\n",
    "                num*=i\n",
    "        return num\n",
    "    number=fact(9)\n",
    "    print(number)"
   ]
  },
  {
   "cell_type": "markdown",
   "id": "8107b9e5-9f96-4382-aa68-17a36ab48b00",
   "metadata": {},
   "source": [
    "## frequncy"
   ]
  },
  {
   "cell_type": "code",
   "execution_count": 4,
   "id": "5db36d98-31c1-4085-8ca8-190aaa60c545",
   "metadata": {},
   "outputs": [
    {
     "name": "stdin",
     "output_type": "stream",
     "text": [
      " anaconda\n"
     ]
    },
    {
     "name": "stdout",
     "output_type": "stream",
     "text": [
      "{'a': 3, 'n': 2, 'c': 1, 'o': 1, 'd': 1}\n"
     ]
    }
   ],
   "source": [
    "    def freq(text):\n",
    "        new={}\n",
    "        for i in text:\n",
    "            if i in new:\n",
    "                new[i]+=1\n",
    "            else:\n",
    "                new[i] = 1\n",
    "        return new\n",
    "    \n",
    "    str=input()\n",
    "    frequency=freq(str)\n",
    "    print(frequency)"
   ]
  },
  {
   "cell_type": "markdown",
   "id": "cc84fad2-f51b-4d23-9ac5-7758ddf8e721",
   "metadata": {},
   "source": [
    "## remove duplicates"
   ]
  },
  {
   "cell_type": "code",
   "execution_count": 5,
   "id": "3d1a1a35-4fba-4723-a436-eee0f4250dec",
   "metadata": {},
   "outputs": [
    {
     "name": "stdout",
     "output_type": "stream",
     "text": [
      "[4, 3, 2, 7, 76]\n"
     ]
    }
   ],
   "source": [
    "    def remove_duplicates(lst): \n",
    "    \t\tunique_lst = [] \n",
    "    \t\tfor item in lst: \n",
    "    \t\t\t\tif item not in unique_lst: \n",
    "    \t\t\t\t\t\t\tunique_lst.append(item) \n",
    "    \t\treturn unique_lst \n",
    "    lsi = [4, 3, 2, 7, 4, 76, 4, 76] \n",
    "    print(remove_duplicates(lsi))"
   ]
  },
  {
   "cell_type": "code",
   "execution_count": 6,
   "id": "2fef0c6c-600d-41ae-bed8-46db39d49f79",
   "metadata": {},
   "outputs": [
    {
     "name": "stdout",
     "output_type": "stream",
     "text": [
      "[2, 3, 4, 7, 76]\n"
     ]
    }
   ],
   "source": [
    "    def remove_duplicates(lst): \n",
    "    \t\treturn list(set(lst)) \n",
    "    lsi = [4, 3, 2, 7, 4, 76, 4, 76] \n",
    "    print(remove_duplicates(lsi))"
   ]
  },
  {
   "cell_type": "markdown",
   "id": "ffbb88d1-5f7b-43f3-81d3-67e38cd098ff",
   "metadata": {},
   "source": [
    "## largest number"
   ]
  },
  {
   "cell_type": "code",
   "execution_count": 7,
   "id": "c6adb2ce-0122-43e7-aad5-5dd57b3ee266",
   "metadata": {},
   "outputs": [
    {
     "name": "stdout",
     "output_type": "stream",
     "text": [
      "3322\n"
     ]
    }
   ],
   "source": [
    "    lis=[22,4,32,566,3322,66,4,6,10]\n",
    "    def large_finder(num):\n",
    "        max=num[0]\n",
    "        for i in range(len(num)):\n",
    "            if num[i]>max:\n",
    "                max=num[i]\n",
    "        return max\n",
    "    large=large_finder(lis)\n",
    "    print(large)"
   ]
  },
  {
   "cell_type": "markdown",
   "id": "6f6ece84-e274-4baa-b73a-547d40d73004",
   "metadata": {},
   "source": [
    "## second largest"
   ]
  },
  {
   "cell_type": "code",
   "execution_count": 26,
   "id": "7006c439-4724-474c-8960-c9e98b5ae88a",
   "metadata": {},
   "outputs": [
    {
     "name": "stdout",
     "output_type": "stream",
     "text": [
      "644\n"
     ]
    }
   ],
   "source": [
    "lis=[2,1,3,5,76,5,4,6,7,4453,644,6]\n",
    "def second_find(num):\n",
    "    maxi=num[0]\n",
    "    second_max=num[0]\n",
    "    for i in num:\n",
    "        if i > maxi:\n",
    "            second_max = maxi\n",
    "            maxi = i\n",
    "        elif i > second_max and i != maxi:\n",
    "            second_max = i\n",
    "\n",
    "    return second_max\n",
    "second=second_find(lis)\n",
    "print(second)"
   ]
  },
  {
   "cell_type": "markdown",
   "id": "77fb0677-f530-4641-a4d8-f820ac15045b",
   "metadata": {},
   "source": [
    "## longest word"
   ]
  },
  {
   "cell_type": "code",
   "execution_count": 29,
   "id": "78f6c5f1-29fc-4e46-8d21-ddab69cf1b59",
   "metadata": {},
   "outputs": [
    {
     "name": "stdin",
     "output_type": "stream",
     "text": [
      "enter the word hello lets see which is the biggest word\n"
     ]
    },
    {
     "name": "stdout",
     "output_type": "stream",
     "text": [
      "biggest\n"
     ]
    }
   ],
   "source": [
    "    def long_words(text):\n",
    "        txt_split=text.split()\n",
    "        maxx=txt_split[0]\n",
    "        for i in txt_split:\n",
    "            if len(maxx)<len(i):\n",
    "                maxx=i\n",
    "        return maxx\n",
    "    text1=input(\"enter the word\")\n",
    "    v=long_words(text1)\n",
    "    print(v)"
   ]
  },
  {
   "cell_type": "markdown",
   "id": "ccea9792-8b06-475f-965c-29d7eb1d6ba8",
   "metadata": {},
   "source": [
    "## two sum"
   ]
  },
  {
   "cell_type": "code",
   "execution_count": 30,
   "id": "50e97704-ca97-4979-8779-e5390e0d9377",
   "metadata": {},
   "outputs": [
    {
     "name": "stdout",
     "output_type": "stream",
     "text": [
      "[(2, 7)]\n"
     ]
    }
   ],
   "source": [
    "    lis=[1,2,37,7,54]\n",
    "    def two_sum(num):\n",
    "        new=[]\n",
    "        for i in range(len(num)):\n",
    "            for j in range(i+1,len(num)):\n",
    "                if lis[i]+lis[j]==9:\n",
    "                    new.append((lis[i],lis[j]))\n",
    "        return new\n",
    "    number=two_sum(lis)\n",
    "    print(number)"
   ]
  },
  {
   "cell_type": "markdown",
   "id": "9dc34dfd-54cb-4e40-a4d2-a0f071cca34e",
   "metadata": {},
   "source": [
    "## palindrome"
   ]
  },
  {
   "cell_type": "code",
   "execution_count": 32,
   "id": "54f6247c-642a-4a99-b5b0-cf5dd08079fb",
   "metadata": {},
   "outputs": [
    {
     "name": "stdin",
     "output_type": "stream",
     "text": [
      "enter the word sarfras\n"
     ]
    },
    {
     "name": "stdout",
     "output_type": "stream",
     "text": [
      "its palindrome\n"
     ]
    }
   ],
   "source": [
    "    def palindrome(inp):\n",
    "        new=\"\"\n",
    "        for i in range(len(inp)-1,-1,-1):\n",
    "            new+=inp[i]\n",
    "        if new==inp:\n",
    "            print(\"its palindrome\")\n",
    "        else:\n",
    "            print(\"its not\")\n",
    "        return\n",
    "    inp=input(\"enter the word\")\n",
    "    palindrome(inp)"
   ]
  },
  {
   "cell_type": "markdown",
   "id": "f7d5025f-b131-41b8-98c7-569dc42c65ee",
   "metadata": {},
   "source": [
    "## anagram"
   ]
  },
  {
   "cell_type": "code",
   "execution_count": 33,
   "id": "52f20622-af82-415f-b5f9-09dd760ba86b",
   "metadata": {},
   "outputs": [
    {
     "name": "stdout",
     "output_type": "stream",
     "text": [
      "its anagram\n"
     ]
    }
   ],
   "source": [
    "    #not ideal for all.repeating words\n",
    "    def check(first,second):\n",
    "        newf=0\n",
    "        for i in first:\n",
    "            for j in second:\n",
    "                if i==j:\n",
    "                    newf+=1\n",
    "        if newf==len(first) and len(second):\n",
    "            print(\"its anagram\")\n",
    "        else:\n",
    "            print(\"its not\")\n",
    "    \n",
    "    f=\"malsdy\"\n",
    "    s=\"ylamds\"\n",
    "    check(f,s)"
   ]
  },
  {
   "cell_type": "markdown",
   "id": "c4f91fae-0012-4a00-b915-171604b0318a",
   "metadata": {},
   "source": [
    "## fibnocci"
   ]
  },
  {
   "cell_type": "code",
   "execution_count": 34,
   "id": "d62018cb-e0af-47c1-8f23-d1db9af6cf0a",
   "metadata": {},
   "outputs": [
    {
     "name": "stdout",
     "output_type": "stream",
     "text": [
      "[0, 1, 1, 2, 3, 5, 8, 13, 21]\n"
     ]
    }
   ],
   "source": [
    "    def fibnocci(num):\n",
    "        new=[]\n",
    "        a,b=0,1\n",
    "        for i in range(num):\n",
    "            new.append(a)\n",
    "            a,b=b,a+b\n",
    "        return new\n",
    "    numb=fibnocci(9)\n",
    "    print(numb)"
   ]
  },
  {
   "cell_type": "markdown",
   "id": "3c743c69-f470-44d4-9214-3a1f3ae7a7bd",
   "metadata": {},
   "source": [
    "## word start"
   ]
  },
  {
   "cell_type": "code",
   "execution_count": 35,
   "id": "a15ecbf7-74d2-485e-afa8-56765333b812",
   "metadata": {},
   "outputs": [
    {
     "name": "stdout",
     "output_type": "stream",
     "text": [
      "['sae', 'sres']\n"
     ]
    }
   ],
   "source": [
    "    lis=[\"sae\",\"sres\",\"arh\",\"rik\"]\n",
    "    def astart(text):\n",
    "        new=[]\n",
    "        for i in text:\n",
    "            if i.startswith(\"s\"):\n",
    "                new.append(i)\n",
    "        return new\n",
    "    a=astart(lis)\n",
    "    print(a)"
   ]
  },
  {
   "cell_type": "code",
   "execution_count": 36,
   "id": "d4c7550d-aaaf-4f5b-bb88-420db95450f6",
   "metadata": {},
   "outputs": [
    {
     "name": "stdout",
     "output_type": "stream",
     "text": [
      "['sdf']\n"
     ]
    }
   ],
   "source": [
    "    ls=['sdf','hrdfhg','asdf']\n",
    "    def check(text):\n",
    "        new=[]\n",
    "        for i in text:\n",
    "            if i[0]=='s':\n",
    "                new.append(i)\n",
    "        return new\n",
    "    print(check(ls))"
   ]
  },
  {
   "cell_type": "markdown",
   "id": "979e1a33-db9f-437c-85e6-61875c5c2e84",
   "metadata": {},
   "source": [
    "## oops in bank"
   ]
  },
  {
   "cell_type": "code",
   "execution_count": 37,
   "id": "2cf494a4-36ed-4d3f-bb62-7eecefe78b2e",
   "metadata": {},
   "outputs": [
    {
     "name": "stdout",
     "output_type": "stream",
     "text": [
      "njan have 1000\n",
      "2500 is your balnce.you deposited 1500\n",
      "dont have inough money\n"
     ]
    }
   ],
   "source": [
    "\n",
    "    class bank:\n",
    "        def __init__(self,name,balance):\n",
    "            self.name=name\n",
    "            self.balance=balance\n",
    "        def deposite(self,amount):\n",
    "            self.balance+=amount\n",
    "            print(f\"{self.balance} is your balnce.you deposited {amount}\")\n",
    "        def withdrown(self,amount):\n",
    "            if amount<self.balance:\n",
    "                self.balance-=amount\n",
    "                print(f\"{self.balance} is your balnce.you withdrawed {amount}\")\n",
    "            else:\n",
    "                print(\"dont have inough money\")\n",
    "    ob=bank('njan',1000)\n",
    "    print(ob.name,\"have\",ob.balance)\n",
    "    ob.deposite(1500)\n",
    "    ob.withdrown(50000)"
   ]
  },
  {
   "cell_type": "markdown",
   "id": "7c1917c5-c430-48cc-bda9-1b97b83c7d81",
   "metadata": {},
   "source": [
    "## cap"
   ]
  },
  {
   "cell_type": "code",
   "execution_count": 38,
   "id": "9eb77beb-dc03-4336-b83e-465ab9676ec3",
   "metadata": {},
   "outputs": [
    {
     "name": "stdout",
     "output_type": "stream",
     "text": [
      "My Name Is Sarfras \n"
     ]
    }
   ],
   "source": [
    "    s='my name is sarfras'\n",
    "    def up(x):\n",
    "        new=''\n",
    "        word=x.split()\n",
    "        for i in word:\n",
    "            new+=i.capitalize()+\" \"\n",
    "        return new\n",
    "    ob=up(s)\n",
    "    print(ob)"
   ]
  },
  {
   "cell_type": "code",
   "execution_count": 39,
   "id": "2a6be0d3-2aca-4a60-adab-3943139b07b8",
   "metadata": {},
   "outputs": [
    {
     "name": "stdout",
     "output_type": "stream",
     "text": [
      "sarfraS\n"
     ]
    }
   ],
   "source": [
    "    s='sarfras'\n",
    "    def up(x):\n",
    "        new=''\n",
    "        for i in range(len(x)):\n",
    "            if i==len(x)-1:\n",
    "                new+=x[i].upper()\n",
    "            else:\n",
    "                new+=x[i]\n",
    "        return new\n",
    "    ob=up(s)\n",
    "    print(ob)\n",
    "    "
   ]
  },
  {
   "cell_type": "code",
   "execution_count": 40,
   "id": "cecbe50a-68f5-4879-9395-397aa610ef23",
   "metadata": {},
   "outputs": [
    {
     "name": "stdout",
     "output_type": "stream",
     "text": [
      "sdsfgfdsgdS\n"
     ]
    }
   ],
   "source": [
    "    st='sdsfgfdsgds'\n",
    "    def cap(t):\n",
    "        n=len(t)\n",
    "        new=t[:n-1]+t[-1].upper()\n",
    "        return new\n",
    "    print(cap(st))"
   ]
  },
  {
   "cell_type": "markdown",
   "id": "f662601e-f202-41e7-a9ed-d482a07495e3",
   "metadata": {},
   "source": [
    "## order check"
   ]
  },
  {
   "cell_type": "code",
   "execution_count": 41,
   "id": "47a03c79-7466-41ef-8202-8d49a1d91521",
   "metadata": {},
   "outputs": [
    {
     "name": "stdout",
     "output_type": "stream",
     "text": [
      "True\n"
     ]
    }
   ],
   "source": [
    "\n",
    "    def check(num):\n",
    "        for i in range(len(num)-1):\n",
    "            if num[i]>num[i+1]:\n",
    "                return False\n",
    "        return True\n",
    "    print(check([1,2,3,4,5,6,7]))\n"
   ]
  }
 ],
 "metadata": {
  "kernelspec": {
   "display_name": "Python 3 (ipykernel)",
   "language": "python",
   "name": "python3"
  },
  "language_info": {
   "codemirror_mode": {
    "name": "ipython",
    "version": 3
   },
   "file_extension": ".py",
   "mimetype": "text/x-python",
   "name": "python",
   "nbconvert_exporter": "python",
   "pygments_lexer": "ipython3",
   "version": "3.12.7"
  }
 },
 "nbformat": 4,
 "nbformat_minor": 5
}
